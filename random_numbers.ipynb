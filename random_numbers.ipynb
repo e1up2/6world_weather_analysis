{
 "cells": [
  {
   "cell_type": "code",
   "execution_count": 2,
   "id": "4ff1f692",
   "metadata": {},
   "outputs": [],
   "source": [
    "# Import the random module\n",
    "import random"
   ]
  },
  {
   "cell_type": "code",
   "execution_count": 14,
   "id": "f0ea62ab",
   "metadata": {},
   "outputs": [
    {
     "data": {
      "text/plain": [
       "-50"
      ]
     },
     "execution_count": 14,
     "metadata": {},
     "output_type": "execute_result"
    }
   ],
   "source": [
    "# Print random integer within a given range\n",
    "random.randint(-90, 90)"
   ]
  },
  {
   "cell_type": "code",
   "execution_count": 23,
   "id": "a0bdfdde",
   "metadata": {},
   "outputs": [
    {
     "data": {
      "text/plain": [
       "0.7556282875119931"
      ]
     },
     "execution_count": 23,
     "metadata": {},
     "output_type": "execute_result"
    }
   ],
   "source": [
    "# Print random decimal in between 0 and 1\n",
    "random.random()"
   ]
  },
  {
   "cell_type": "code",
   "execution_count": 40,
   "id": "98fc008c",
   "metadata": {},
   "outputs": [
    {
     "data": {
      "text/plain": [
       "24.10144046719305"
      ]
     },
     "execution_count": 40,
     "metadata": {},
     "output_type": "execute_result"
    }
   ],
   "source": [
    "# Print a random decimal > 1\n",
    "random_number = random.randint(-90, 89) + random.random()\n",
    "random_number"
   ]
  },
  {
   "cell_type": "code",
   "execution_count": 44,
   "id": "0fa0ce1f",
   "metadata": {},
   "outputs": [
    {
     "data": {
      "text/plain": [
       "[72.68886262180656,\n",
       " -19.228558781160864,\n",
       " 4.957580440191471,\n",
       " 74.09500121509862,\n",
       " -24.21510406872215,\n",
       " 35.26969109505377,\n",
       " 73.48759945692781,\n",
       " 20.030481213758215,\n",
       " -50.377009905597575,\n",
       " 84.09956284356292]"
      ]
     },
     "execution_count": 44,
     "metadata": {},
     "output_type": "execute_result"
    }
   ],
   "source": [
    "x = 1\n",
    "latitudes = []\n",
    "while x < 11:\n",
    "    random_lat = random.randint(-90, 89) + random.random()\n",
    "    latitudes.append(random_lat)\n",
    "    x += 1\n",
    "    \n",
    "latitudes"
   ]
  },
  {
   "cell_type": "code",
   "execution_count": 70,
   "id": "77329986",
   "metadata": {},
   "outputs": [
    {
     "data": {
      "text/plain": [
       "0"
      ]
     },
     "execution_count": 70,
     "metadata": {},
     "output_type": "execute_result"
    }
   ],
   "source": [
    "random.randrange(-90, 90, step = 1)"
   ]
  },
  {
   "cell_type": "code",
   "execution_count": 85,
   "id": "6a274703",
   "metadata": {},
   "outputs": [
    {
     "data": {
      "text/plain": [
       "-21"
      ]
     },
     "execution_count": 85,
     "metadata": {},
     "output_type": "execute_result"
    }
   ],
   "source": [
    "random.randrange(-90, 90, step = 3)"
   ]
  },
  {
   "cell_type": "code",
   "execution_count": 86,
   "id": "36877843",
   "metadata": {},
   "outputs": [
    {
     "data": {
      "text/plain": [
       "-79.26360081646656"
      ]
     },
     "execution_count": 86,
     "metadata": {},
     "output_type": "execute_result"
    }
   ],
   "source": [
    "random.uniform(-90, 90)"
   ]
  },
  {
   "cell_type": "code",
   "execution_count": 87,
   "id": "c8ec2b62",
   "metadata": {},
   "outputs": [],
   "source": [
    "# Import the NumPy module\n",
    "import numpy as np"
   ]
  },
  {
   "cell_type": "code",
   "execution_count": 94,
   "id": "60b2b026",
   "metadata": {},
   "outputs": [
    {
     "data": {
      "text/plain": [
       "-8.77614545675884"
      ]
     },
     "execution_count": 94,
     "metadata": {},
     "output_type": "execute_result"
    }
   ],
   "source": [
    "np.random.uniform(-90.000, 90.000)"
   ]
  },
  {
   "cell_type": "code",
   "execution_count": 96,
   "id": "1632c621",
   "metadata": {},
   "outputs": [
    {
     "data": {
      "text/plain": [
       "array([-16.93626076,  -0.31153525, -36.96086386, -69.98679776,\n",
       "       -87.385505  ,  42.34004538,  49.52591431, -89.29788309,\n",
       "       -85.65785795, -29.79127464, -56.47668943, -41.92760429,\n",
       "       -55.53261217,  20.27982223, -53.35754157, -11.79339632,\n",
       "       -33.2891166 ,  24.63950847,   1.38560334, -81.6231535 ,\n",
       "       -44.69546945, -42.13650362, -64.26536655, -36.76167476,\n",
       "        63.81440924, -83.20657502,  30.84659194,  14.23947845,\n",
       "       -34.02738706, -42.50458333,  57.62831119,  46.50811754,\n",
       "        47.8562536 ,  29.15012762, -88.41530783,  -9.59605967,\n",
       "       -64.08005531,  67.90922626,  82.54231187,  38.84091521,\n",
       "        12.06317489,  65.36649241, -23.66065644, -29.11777712,\n",
       "       -62.5978792 ,  -0.73939975,  -0.16301976,  68.1144163 ,\n",
       "        85.97319462,  82.31437819])"
      ]
     },
     "execution_count": 96,
     "metadata": {},
     "output_type": "execute_result"
    }
   ],
   "source": [
    "np.random.uniform(-90, 90, size = 50)"
   ]
  },
  {
   "cell_type": "code",
   "execution_count": 97,
   "id": "b445cc7d",
   "metadata": {},
   "outputs": [],
   "source": [
    "# Import timeit\n",
    "import timeit"
   ]
  },
  {
   "cell_type": "code",
   "execution_count": 98,
   "id": "3bf4b6f0",
   "metadata": {},
   "outputs": [
    {
     "name": "stdout",
     "output_type": "stream",
     "text": [
      "11.6 µs ± 278 ns per loop (mean ± std. dev. of 7 runs, 100000 loops each)\n"
     ]
    }
   ],
   "source": [
    "%timeit np.random.uniform(-90, 90, size = 1500)"
   ]
  },
  {
   "cell_type": "code",
   "execution_count": 100,
   "id": "4f33891d",
   "metadata": {},
   "outputs": [
    {
     "name": "stdout",
     "output_type": "stream",
     "text": [
      "1.08 ms ± 12.7 µs per loop (mean ± std. dev. of 7 runs, 1000 loops each)\n"
     ]
    }
   ],
   "source": [
    "def latitudes(size):\n",
    "    latitudes = []\n",
    "    x = 0\n",
    "    while x < (size):\n",
    "        random_lat = random.randint(-90, 90) + random.random()\n",
    "        latitudes.append(random_lat)\n",
    "        x += 1\n",
    "    return latitudes\n",
    "# Call the function with 1500\n",
    "%timeit latitudes(1500)"
   ]
  }
 ],
 "metadata": {
  "kernelspec": {
   "display_name": "PythonData",
   "language": "python",
   "name": "pythondata"
  },
  "language_info": {
   "codemirror_mode": {
    "name": "ipython",
    "version": 3
   },
   "file_extension": ".py",
   "mimetype": "text/x-python",
   "name": "python",
   "nbconvert_exporter": "python",
   "pygments_lexer": "ipython3",
   "version": "3.8.8"
  }
 },
 "nbformat": 4,
 "nbformat_minor": 5
}
